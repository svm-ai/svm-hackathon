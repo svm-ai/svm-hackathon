{
 "cells": [
  {
   "cell_type": "code",
   "execution_count": 37,
   "id": "2c30f5c6",
   "metadata": {},
   "outputs": [
    {
     "name": "stdout",
     "output_type": "stream",
     "text": [
      "   20407\r\n"
     ]
    }
   ],
   "source": [
    "!grep -o '>' fastaresults.txt | wc -l"
   ]
  },
  {
   "cell_type": "code",
   "execution_count": 9,
   "id": "83cb7e60",
   "metadata": {
    "scrolled": true
   },
   "outputs": [
    {
     "name": "stdout",
     "output_type": "stream",
     "text": [
      ">ENA|AY220845|AY220845.1 Homo sapiens cytochrome P450 mRNA, complete cds. : Location:1..6000\r\n",
      "CACGAGGGGAAGGGTCACGCGCTCGGTGTGCTGAGAGTGTCCTGCCTGGTCCTCTGTGCC\r\n",
      "TGGTGGGGTGGGGGTGCCAGGTGTGTCCAGAGGAGCCCAGTTGGTAGTGAGGCAGCCATG\r\n",
      "GGGCTAGAAGCACTGGTGCCCCTGGCCATGATAGTGGCCATCTTCCTGCTCCTGGTGGAC\r\n",
      "CTGATGCACCGGCACCAACGCTGGGCTGCACGCTACCCGCCAGGTCCCCTGCCACTGCCC\r\n",
      "GGGCTGGGCAACCTGCTGCATGTGGACTTCCAGAACACACCATACTGCTTCGACCAGTTG\r\n",
      "CGGCGCCGCTTCGGGGACGTGTTCAACCTGCAGCTGGCCTGGACGCCGGTGGTCGTGCTC\r\n",
      "AATGGGCTGGCGGCCGTGCGCGAGGCGATGGTGACCCGCGGCGAGGACACGGCCGACCGC\r\n",
      "CCGCCTGCGCCCATCTACCAGGTCCTGGGCTTCGGGCCGCGTTCCCAAGGGGTGATCCTG\r\n",
      "TCGCGCTATGGGCCCGCGTGGCGCGAGCAGAGGCGCTTCTCCGTGTCCACCTTGCGCAAC\r\n",
      "TTGGGCCTGGGCAAGAAGTCGCTGGAGCAGTGGGTGACCGAGGAGGCCGCCTGCCTTTGT\r\n",
      "GCCGCCTTCGCCGACCAAGCCGGACGCCCCTTTCGCCCCAACGGTCTCTTGGACAAAGCC\r\n",
      "GTGAGCAACGTGATCGCCTCCCTCACCTGCGGGCGCCGCTTCGAGTACGACGACCCTCGC\r\n",
      "TTCCTCAGGCTGCTGGACCTAGCTCAGGAGGGACTGAAGGAGGAGTCGGGCTTCCTGCGC\r\n",
      "GAGGTGCTGAATGCTGTCCCCGTCCTCCCGCACATCCCAGCGCTGGCTGGCAAGGTCCTA\r\n",
      "CGCTTCCAAAAGGCTTTCCTGACCCAGCTGGATGAGCTGCTAACTGAGCACAGGATGACC\r\n",
      "TGGGACCCAGCCCAGCCACCCCGAGACCTGACTGAGGCCTTCCTGGCAAAGAAGGAGAAG\r\n",
      "GCCAAGGGGAGCCCTGAGAGCAGCTTCAATGATGAGAACCTGCGCATAGTGGTGGGTAAC\r\n",
      "CTGTTCCTTGCCGGGATGGTGACCACCTTGACCACGCTGGCCTGGGGCCTCCTGCTCATG\r\n",
      "ATCCTACACCTGGATGTGCAGCGAGGAAGGAGAGTGTCCCCTGGGTGCTCACCCATTGTG\r\n",
      "GGGACGCATGTCTGTCCAGTCCGTGTCCAACAGGAGATCGACGACGTGATAGGGCAGGTG\r\n",
      "CGGCGACCAGAGATGGGTGACCAGGTTCACATGCCCTACACCACTGCCGTGATTCATGAG\r\n",
      "GTGCAGCGCTTTGGGGACATCGTCCCCCTGGGTGTGACCCATATGACATCCCGTGACATC\r\n",
      "GAAGTACAGGGCTTCCGCATCCCTAAGGGAACGACACTCATCACCAACCTGTCATCGGTG\r\n",
      "CTGAAGGATGAGGCCGTCTGGGAGAAGCCCTTCCGCTTCCACCCCGAACACTTCCTGGAT\r\n",
      "GCCCAGGGCCACTTTGTGAAGCCGGAGGCCTTCCTGCCTTTCTCAGCAGGCCGCCGTGCA\r\n",
      "TGCCTCGGGGAGCCCCTGGCCCGCATGGAGCTCTTCCTCTTCTTCACCTCCCTGCTGCAG\r\n",
      "CACTTCAGCTTCTCCGTGGCCGCCGGACAGCCCCGGCCCAGCCACTCTCGTGTCGTCAGC\r\n",
      "TTTCTGGTGACCCCATCCCCCTATGAGCTTTGTGCTGTGCCCCGCTAGAATGGGGTACCT\r\n",
      "AGTCCCCAGCCTGCTCCCTAGCCAGAGGCTCTAATGTACAATAAAGCAATGTGGTAGTTC\r\n",
      "CAAAAAAAAAAAAAAAAAAAA\r\n",
      ">ENA|AB593170|AB593170.1 Homo sapiens HP06981 mRNA, partial sequence, clone: HP06981-RBd10H06. : Location:1..6000\r\n",
      "ATCCATTAAGTTTGGCCTTTGAGAGCAGTCGTCGCTCGCAAGCCCGGAAGTAACCGGGAA\r\n",
      "CGGGCAACTTCGTAGCTCCCACCCGACGTGGTGGCCTCCTTGCGGTTTCCTTTCGCCGTT\r\n",
      "TCCGAACCGAGGGATTGCTACTCGCCTTTGGCTTGGCGGTCTCTGTGCTCGGGGGTCCGA\r\n",
      "AAACTGCTGGAAGGCCCCCGGTCTCTGGAGGGGAGCAGGCGGTAGCGAGTTTAGTGACGT\r\n",
      "GGAGCAGGCGCAGAACAGTCGGAGATTTGAAGAGATTTCCTGGGTGTGGAGTGTGACTTT\r\n",
      "CCAAAACCAGCTTTTCCTTGAGCTGTATTTGTTGCAGCAATGTTTAGGAGATTGACTTTT\r\n",
      "GCACAACTGCTTTTTGCCACTGTCCTTGGAATTGCTGGAGGAGTATATATTTTTCAACCA\r\n",
      "GTATTTGAACAGTATGCCAAAGATCAGAAGGAATTAAAAGAAAAGATGCAGTTGGTACAA\r\n",
      "GAATCAGAAGAGAAGAAAAGTTAATACTACATGGAGTTAGGCCTGGCGCAGTGGCTCACG\r\n",
      "CCTGTAATCCCAGCACTTTGGGAGGCCGAGGCGGGTGGATCAGGTGGTCAGGAGTTCAAG\r\n",
      "ACCAGCCTGACCAACATGGTGAAACCCTGTCTCTACTGAAAATACAAAAATCAGCCAGGC\r\n",
      "TTGGTGGCATGCGCC\r\n",
      ">ENA|CU639417|CU639417.17 Human DNA sequence from clone CH507-42P11 on chromosome 21 : Location:1..6000\r\n",
      "GATCTGTTGGTGGTTCCCTCGGCTTTGGACCTAGTCGCTCTGATTCAGCCCTCTCTCTCC\r\n",
      "CCGCTGTTTTGTTAGACTGATCTTTCACAGTCGGATTACACCACTGACATCCCCACTGAA\r\n",
      "AACCGGAAGGGGCTCTGGTCAGGGTCCATGATCTGACCTCCTCTGGCCTCAACCCTGGGC\r\n",
      "ATCCTCATCACCGTGTCCCTCTGTTCACACTCCTCACATTGCCTTGTTGGGTTTGGACTC\r\n",
      "AGAAAGGTGAGAGCTTTTCAGGAGAGAAACAGACTCAAAATGTGAATCTGAGAGAGCTCT\r\n"
     ]
    }
   ],
   "source": [
    "!head -n 50 fastaresults.txt"
   ]
  },
  {
   "cell_type": "code",
   "execution_count": 40,
   "id": "8999a2f5",
   "metadata": {},
   "outputs": [],
   "source": [
    "import pandas as pd\n",
    "\n",
    "# Read the file and split it into lines\n",
    "with open('fastaresults.txt', 'r') as file:\n",
    "    lines = file.read().splitlines()\n",
    "\n",
    "# Initialize empty lists for code and sequence\n",
    "code_list = []\n",
    "sequence_list = []\n",
    "\n",
    "# Variables to track the current code and sequence\n",
    "current_code = None\n",
    "current_sequence = ''\n",
    "\n",
    "# Iterate through the lines\n",
    "for line in lines:\n",
    "    if line.startswith('>ENA'):\n",
    "        # Save the previous code and sequence, if any\n",
    "        if current_code is not None:\n",
    "            code_list.append(current_code)\n",
    "            sequence_list.append(current_sequence)\n",
    "\n",
    "        # Extract the code from the header\n",
    "        current_code = line.split('|')[1]\n",
    "        current_sequence = ''\n",
    "    else:\n",
    "        # Append the sequence line to the current sequence\n",
    "        current_sequence += line\n",
    "\n",
    "# Save the last code and sequence\n",
    "if current_code is not None:\n",
    "    code_list.append(current_code)\n",
    "    sequence_list.append(current_sequence)\n",
    "\n",
    "# Create a DataFrame from the lists\n",
    "df = pd.DataFrame({'EMBL': code_list, 'nuc_sequence': sequence_list})\n"
   ]
  },
  {
   "cell_type": "code",
   "execution_count": 41,
   "id": "48e98322",
   "metadata": {},
   "outputs": [
    {
     "data": {
      "text/html": [
       "<div>\n",
       "<style scoped>\n",
       "    .dataframe tbody tr th:only-of-type {\n",
       "        vertical-align: middle;\n",
       "    }\n",
       "\n",
       "    .dataframe tbody tr th {\n",
       "        vertical-align: top;\n",
       "    }\n",
       "\n",
       "    .dataframe thead th {\n",
       "        text-align: right;\n",
       "    }\n",
       "</style>\n",
       "<table border=\"1\" class=\"dataframe\">\n",
       "  <thead>\n",
       "    <tr style=\"text-align: right;\">\n",
       "      <th></th>\n",
       "      <th>EMBL</th>\n",
       "      <th>nuc_sequence</th>\n",
       "    </tr>\n",
       "  </thead>\n",
       "  <tbody>\n",
       "    <tr>\n",
       "      <th>0</th>\n",
       "      <td>AY220845</td>\n",
       "      <td>CACGAGGGGAAGGGTCACGCGCTCGGTGTGCTGAGAGTGTCCTGCC...</td>\n",
       "    </tr>\n",
       "    <tr>\n",
       "      <th>1</th>\n",
       "      <td>AB593170</td>\n",
       "      <td>ATCCATTAAGTTTGGCCTTTGAGAGCAGTCGTCGCTCGCAAGCCCG...</td>\n",
       "    </tr>\n",
       "    <tr>\n",
       "      <th>2</th>\n",
       "      <td>CU639417</td>\n",
       "      <td>GATCTGTTGGTGGTTCCCTCGGCTTTGGACCTAGTCGCTCTGATTC...</td>\n",
       "    </tr>\n",
       "    <tr>\n",
       "      <th>3</th>\n",
       "      <td>KP715230</td>\n",
       "      <td>ATGAGGTGGCAAGAAATGGGCTACATTTTCTACCCCAGAAAACTAC...</td>\n",
       "    </tr>\n",
       "    <tr>\n",
       "      <th>4</th>\n",
       "      <td>LC013475</td>\n",
       "      <td>ATGACCCAGAGGGCTGGGGCTGCCATGCTGCCTTCAGCTCTGCTCC...</td>\n",
       "    </tr>\n",
       "    <tr>\n",
       "      <th>...</th>\n",
       "      <td>...</td>\n",
       "      <td>...</td>\n",
       "    </tr>\n",
       "    <tr>\n",
       "      <th>20400</th>\n",
       "      <td>AF152583</td>\n",
       "      <td>TGGGAATAATGAGTTCAAATGAACGAATATGTGGAACAAAGCATCA...</td>\n",
       "    </tr>\n",
       "    <tr>\n",
       "      <th>20401</th>\n",
       "      <td>AF086709</td>\n",
       "      <td>ATTTCCTCGAAATTAGATTCAGCTTATGCATTTTTTGGAAGGAATA...</td>\n",
       "    </tr>\n",
       "    <tr>\n",
       "      <th>20402</th>\n",
       "      <td>AB016901</td>\n",
       "      <td>GGAGGACACGTGGAAACGCAACCGCCAGGAGGAAAGGCGGGACACA...</td>\n",
       "    </tr>\n",
       "    <tr>\n",
       "      <th>20403</th>\n",
       "      <td>AL096814</td>\n",
       "      <td>GATCAGTCAGGCCAGTTTCCAGCCAGTGTTGGACAGTTAGTTGTTA...</td>\n",
       "    </tr>\n",
       "    <tr>\n",
       "      <th>20404</th>\n",
       "      <td>FO681492</td>\n",
       "      <td>TTAGTAATTTTTAACATGTGTTGCAGACATTTTTCCCAAGCTTGTT...</td>\n",
       "    </tr>\n",
       "  </tbody>\n",
       "</table>\n",
       "<p>20405 rows × 2 columns</p>\n",
       "</div>"
      ],
      "text/plain": [
       "           EMBL                                       nuc_sequence\n",
       "0      AY220845  CACGAGGGGAAGGGTCACGCGCTCGGTGTGCTGAGAGTGTCCTGCC...\n",
       "1      AB593170  ATCCATTAAGTTTGGCCTTTGAGAGCAGTCGTCGCTCGCAAGCCCG...\n",
       "2      CU639417  GATCTGTTGGTGGTTCCCTCGGCTTTGGACCTAGTCGCTCTGATTC...\n",
       "3      KP715230  ATGAGGTGGCAAGAAATGGGCTACATTTTCTACCCCAGAAAACTAC...\n",
       "4      LC013475  ATGACCCAGAGGGCTGGGGCTGCCATGCTGCCTTCAGCTCTGCTCC...\n",
       "...         ...                                                ...\n",
       "20400  AF152583  TGGGAATAATGAGTTCAAATGAACGAATATGTGGAACAAAGCATCA...\n",
       "20401  AF086709  ATTTCCTCGAAATTAGATTCAGCTTATGCATTTTTTGGAAGGAATA...\n",
       "20402  AB016901  GGAGGACACGTGGAAACGCAACCGCCAGGAGGAAAGGCGGGACACA...\n",
       "20403  AL096814  GATCAGTCAGGCCAGTTTCCAGCCAGTGTTGGACAGTTAGTTGTTA...\n",
       "20404  FO681492  TTAGTAATTTTTAACATGTGTTGCAGACATTTTTCCCAAGCTTGTT...\n",
       "\n",
       "[20405 rows x 2 columns]"
      ]
     },
     "execution_count": 41,
     "metadata": {},
     "output_type": "execute_result"
    }
   ],
   "source": [
    "df"
   ]
  },
  {
   "cell_type": "code",
   "execution_count": 45,
   "id": "d0d97e51",
   "metadata": {},
   "outputs": [],
   "source": [
    "mapping = pd.read_csv('uni_embl_map.csv').drop('Unnamed: 0',axis=1)"
   ]
  },
  {
   "cell_type": "code",
   "execution_count": 46,
   "id": "81f61def",
   "metadata": {},
   "outputs": [
    {
     "data": {
      "text/html": [
       "<div>\n",
       "<style scoped>\n",
       "    .dataframe tbody tr th:only-of-type {\n",
       "        vertical-align: middle;\n",
       "    }\n",
       "\n",
       "    .dataframe tbody tr th {\n",
       "        vertical-align: top;\n",
       "    }\n",
       "\n",
       "    .dataframe thead th {\n",
       "        text-align: right;\n",
       "    }\n",
       "</style>\n",
       "<table border=\"1\" class=\"dataframe\">\n",
       "  <thead>\n",
       "    <tr style=\"text-align: right;\">\n",
       "      <th></th>\n",
       "      <th>Entry</th>\n",
       "      <th>EMBL_first_entry</th>\n",
       "    </tr>\n",
       "  </thead>\n",
       "  <tbody>\n",
       "    <tr>\n",
       "      <th>0</th>\n",
       "      <td>A0A087X1C5</td>\n",
       "      <td>AY220845</td>\n",
       "    </tr>\n",
       "    <tr>\n",
       "      <th>1</th>\n",
       "      <td>A0A0B4J2F0</td>\n",
       "      <td>AB593170</td>\n",
       "    </tr>\n",
       "    <tr>\n",
       "      <th>2</th>\n",
       "      <td>A0A0B4J2F2</td>\n",
       "      <td>CU639417</td>\n",
       "    </tr>\n",
       "    <tr>\n",
       "      <th>3</th>\n",
       "      <td>A0A0C5B5G6</td>\n",
       "      <td>KP715230</td>\n",
       "    </tr>\n",
       "    <tr>\n",
       "      <th>4</th>\n",
       "      <td>A0A0K2S4Q6</td>\n",
       "      <td>LC013475</td>\n",
       "    </tr>\n",
       "    <tr>\n",
       "      <th>...</th>\n",
       "      <td>...</td>\n",
       "      <td>...</td>\n",
       "    </tr>\n",
       "    <tr>\n",
       "      <th>20417</th>\n",
       "      <td>Q9Y3F1</td>\n",
       "      <td>AF152583</td>\n",
       "    </tr>\n",
       "    <tr>\n",
       "      <th>20418</th>\n",
       "      <td>Q9Y6C7</td>\n",
       "      <td>AF086709</td>\n",
       "    </tr>\n",
       "    <tr>\n",
       "      <th>20419</th>\n",
       "      <td>Q9Y6Z2</td>\n",
       "      <td>AB016901</td>\n",
       "    </tr>\n",
       "    <tr>\n",
       "      <th>20420</th>\n",
       "      <td>X6R8D5</td>\n",
       "      <td>AL096814</td>\n",
       "    </tr>\n",
       "    <tr>\n",
       "      <th>20421</th>\n",
       "      <td>X6R8R1</td>\n",
       "      <td>FO681492</td>\n",
       "    </tr>\n",
       "  </tbody>\n",
       "</table>\n",
       "<p>20422 rows × 2 columns</p>\n",
       "</div>"
      ],
      "text/plain": [
       "            Entry EMBL_first_entry\n",
       "0      A0A087X1C5         AY220845\n",
       "1      A0A0B4J2F0         AB593170\n",
       "2      A0A0B4J2F2         CU639417\n",
       "3      A0A0C5B5G6         KP715230\n",
       "4      A0A0K2S4Q6         LC013475\n",
       "...           ...              ...\n",
       "20417      Q9Y3F1         AF152583\n",
       "20418      Q9Y6C7         AF086709\n",
       "20419      Q9Y6Z2         AB016901\n",
       "20420      X6R8D5         AL096814\n",
       "20421      X6R8R1         FO681492\n",
       "\n",
       "[20422 rows x 2 columns]"
      ]
     },
     "execution_count": 46,
     "metadata": {},
     "output_type": "execute_result"
    }
   ],
   "source": [
    "mapping"
   ]
  },
  {
   "cell_type": "code",
   "execution_count": 75,
   "id": "8975021c",
   "metadata": {},
   "outputs": [
    {
     "name": "stdout",
     "output_type": "stream",
     "text": [
      "<class 'pandas.core.frame.DataFrame'>\n",
      "RangeIndex: 20422 entries, 0 to 20421\n",
      "Data columns (total 2 columns):\n",
      " #   Column            Non-Null Count  Dtype \n",
      "---  ------            --------------  ----- \n",
      " 0   Entry             20422 non-null  object\n",
      " 1   EMBL_first_entry  20408 non-null  object\n",
      "dtypes: object(2)\n",
      "memory usage: 319.2+ KB\n"
     ]
    }
   ],
   "source": [
    "mapping.info()"
   ]
  },
  {
   "cell_type": "code",
   "execution_count": 52,
   "id": "ea3e9ac7",
   "metadata": {},
   "outputs": [],
   "source": [
    "merged = df.merge(mapping, left_on=\"EMBL\", right_on=\"EMBL_first_entry\", how='right').drop(['EMBL'],axis=1)[['Entry','EMBL_first_entry','nuc_sequence']].drop_duplicates()"
   ]
  },
  {
   "cell_type": "code",
   "execution_count": 63,
   "id": "5e2bfce7",
   "metadata": {},
   "outputs": [
    {
     "data": {
      "text/plain": [
       "13796    Q9UHG0\n",
       "23626    Q9UBP8\n",
       "Name: Entry, dtype: object"
      ]
     },
     "execution_count": 63,
     "metadata": {},
     "output_type": "execute_result"
    }
   ],
   "source": [
    "merged[merged.duplicated(subset=['Entry','EMBL_first_entry'])]['Entry']"
   ]
  },
  {
   "cell_type": "code",
   "execution_count": 70,
   "id": "f135f714",
   "metadata": {},
   "outputs": [
    {
     "data": {
      "text/html": [
       "<div>\n",
       "<style scoped>\n",
       "    .dataframe tbody tr th:only-of-type {\n",
       "        vertical-align: middle;\n",
       "    }\n",
       "\n",
       "    .dataframe tbody tr th {\n",
       "        vertical-align: top;\n",
       "    }\n",
       "\n",
       "    .dataframe thead th {\n",
       "        text-align: right;\n",
       "    }\n",
       "</style>\n",
       "<table border=\"1\" class=\"dataframe\">\n",
       "  <thead>\n",
       "    <tr style=\"text-align: right;\">\n",
       "      <th></th>\n",
       "      <th>Entry</th>\n",
       "      <th>EMBL_first_entry</th>\n",
       "      <th>nuc_sequence</th>\n",
       "    </tr>\n",
       "  </thead>\n",
       "  <tbody>\n",
       "    <tr>\n",
       "      <th>13795</th>\n",
       "      <td>Q9UHG0</td>\n",
       "      <td>AF181720</td>\n",
       "      <td>GAGCTCCCCTCCCCTCTCCAGCACGCGAGTGTCGGTAGGTACTACG...</td>\n",
       "    </tr>\n",
       "    <tr>\n",
       "      <th>13796</th>\n",
       "      <td>Q9UHG0</td>\n",
       "      <td>AF181720</td>\n",
       "      <td>GAGCTCCCCTCCCCTCTCCAGCACGCGAGTGTCGGTAGGTACTACG...</td>\n",
       "    </tr>\n",
       "    <tr>\n",
       "      <th>23625</th>\n",
       "      <td>Q9UBP8</td>\n",
       "      <td>AF181720</td>\n",
       "      <td>GAGCTCCCCTCCCCTCTCCAGCACGCGAGTGTCGGTAGGTACTACG...</td>\n",
       "    </tr>\n",
       "    <tr>\n",
       "      <th>23626</th>\n",
       "      <td>Q9UBP8</td>\n",
       "      <td>AF181720</td>\n",
       "      <td>GAGCTCCCCTCCCCTCTCCAGCACGCGAGTGTCGGTAGGTACTACG...</td>\n",
       "    </tr>\n",
       "  </tbody>\n",
       "</table>\n",
       "</div>"
      ],
      "text/plain": [
       "        Entry EMBL_first_entry  \\\n",
       "13795  Q9UHG0         AF181720   \n",
       "13796  Q9UHG0         AF181720   \n",
       "23625  Q9UBP8         AF181720   \n",
       "23626  Q9UBP8         AF181720   \n",
       "\n",
       "                                            nuc_sequence  \n",
       "13795  GAGCTCCCCTCCCCTCTCCAGCACGCGAGTGTCGGTAGGTACTACG...  \n",
       "13796  GAGCTCCCCTCCCCTCTCCAGCACGCGAGTGTCGGTAGGTACTACG...  \n",
       "23625  GAGCTCCCCTCCCCTCTCCAGCACGCGAGTGTCGGTAGGTACTACG...  \n",
       "23626  GAGCTCCCCTCCCCTCTCCAGCACGCGAGTGTCGGTAGGTACTACG...  "
      ]
     },
     "execution_count": 70,
     "metadata": {},
     "output_type": "execute_result"
    }
   ],
   "source": [
    "merged[(merged['Entry']=='Q9UHG0')|(merged['Entry']=='Q9UBP8')]"
   ]
  },
  {
   "cell_type": "code",
   "execution_count": 71,
   "id": "7e2d8178",
   "metadata": {},
   "outputs": [
    {
     "data": {
      "text/plain": [
       "13795     4377\n",
       "13796    34190\n",
       "23625     4377\n",
       "23626    34190\n",
       "Name: nuc_sequence, dtype: int64"
      ]
     },
     "execution_count": 71,
     "metadata": {},
     "output_type": "execute_result"
    }
   ],
   "source": [
    "merged[(merged['Entry']=='Q9UHG0')|(merged['Entry']=='Q9UBP8')]['nuc_sequence'].str.len()"
   ]
  },
  {
   "cell_type": "code",
   "execution_count": 73,
   "id": "c397e00b",
   "metadata": {},
   "outputs": [],
   "source": [
    "merged=merged.drop([13795,23626])"
   ]
  },
  {
   "cell_type": "code",
   "execution_count": 74,
   "id": "d090535b",
   "metadata": {},
   "outputs": [],
   "source": [
    "merged.to_csv('uniprot_nuc_sequences.csv')"
   ]
  },
  {
   "cell_type": "code",
   "execution_count": null,
   "id": "cbdd2595",
   "metadata": {},
   "outputs": [],
   "source": []
  }
 ],
 "metadata": {
  "kernelspec": {
   "display_name": "Python 3 (ipykernel)",
   "language": "python",
   "name": "python3"
  },
  "language_info": {
   "codemirror_mode": {
    "name": "ipython",
    "version": 3
   },
   "file_extension": ".py",
   "mimetype": "text/x-python",
   "name": "python",
   "nbconvert_exporter": "python",
   "pygments_lexer": "ipython3",
   "version": "3.9.7"
  }
 },
 "nbformat": 4,
 "nbformat_minor": 5
}
